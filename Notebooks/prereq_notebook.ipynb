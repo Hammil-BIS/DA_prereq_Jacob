{
 "cells": [
  {
   "cell_type": "code",
   "execution_count": null,
   "id": "8a6df266",
   "metadata": {},
   "outputs": [],
   "source": [
    "interests = ['gaming', 'cooking', 'singing']\n",
    "print(interests[-1])"
   ]
  }
 ],
 "metadata": {
  "language_info": {
   "name": "python"
  }
 },
 "nbformat": 4,
 "nbformat_minor": 5
}
