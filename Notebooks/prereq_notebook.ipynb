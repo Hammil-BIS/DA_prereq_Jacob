{
 "cells": [
  {
   "cell_type": "code",
   "execution_count": null,
   "id": "8a6df266",
   "metadata": {},
   "outputs": [],
   "source": [
    "interests = ['gaming', 'cooking', 'singing']\n",
    "print(interests[2])"
   ]
  },
  {
   "cell_type": "markdown",
   "id": "3285e441",
   "metadata": {},
   "source": [
    "Hello! I'm excited to be here. I work in JCPS as a school social worker and am excited to take what I learn from here and integrate it into my everyday work. My goal is to someday work in education research and data analysis. "
   ]
  }
 ],
 "metadata": {
  "language_info": {
   "name": "python"
  }
 },
 "nbformat": 4,
 "nbformat_minor": 5
}
